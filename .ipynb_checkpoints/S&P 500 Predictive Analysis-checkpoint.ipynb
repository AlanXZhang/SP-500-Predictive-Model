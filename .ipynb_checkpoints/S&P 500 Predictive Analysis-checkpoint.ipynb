{
 "cells": [
  {
   "cell_type": "markdown",
   "id": "e6c6cf1f",
   "metadata": {},
   "source": [
    "# S&P 500 Predictive Analysis"
   ]
  },
  {
   "cell_type": "markdown",
   "id": "e830b9ea",
   "metadata": {},
   "source": [
    "Vulcun provided a dataset of past stock market prices"
   ]
  },
  {
   "cell_type": "markdown",
   "id": "6796799d",
   "metadata": {},
   "source": [
    "## Loading in the Dataset"
   ]
  },
  {
   "cell_type": "code",
   "execution_count": 1,
   "id": "7ae9d9a4",
   "metadata": {},
   "outputs": [],
   "source": [
    "%matplotlib inline\n",
    "import pandas as pd\n",
    "import numpy as np\n",
    "import os"
   ]
  },
  {
   "cell_type": "code",
   "execution_count": 2,
   "id": "01529df6",
   "metadata": {
    "scrolled": false
   },
   "outputs": [],
   "source": [
    "test_set = pd.read_csv(\"dataset/observations_test.csv\")\n",
    "train_set = pd.read_csv(\"dataset/observations_train.csv\")\n",
    "ser = pd.read_csv(\"dataset/series.csv\")"
   ]
  },
  {
   "cell_type": "code",
   "execution_count": 3,
   "id": "6ba470ec",
   "metadata": {
    "scrolled": true
   },
   "outputs": [
    {
     "data": {
      "text/html": [
       "<div>\n",
       "<style scoped>\n",
       "    .dataframe tbody tr th:only-of-type {\n",
       "        vertical-align: middle;\n",
       "    }\n",
       "\n",
       "    .dataframe tbody tr th {\n",
       "        vertical-align: top;\n",
       "    }\n",
       "\n",
       "    .dataframe thead th {\n",
       "        text-align: right;\n",
       "    }\n",
       "</style>\n",
       "<table border=\"1\" class=\"dataframe\">\n",
       "  <thead>\n",
       "    <tr style=\"text-align: right;\">\n",
       "      <th></th>\n",
       "      <th>series_id</th>\n",
       "      <th>date</th>\n",
       "      <th>value</th>\n",
       "      <th>name</th>\n",
       "      <th>frequency</th>\n",
       "      <th>units</th>\n",
       "      <th>seasonal_adjustment</th>\n",
       "      <th>Description</th>\n",
       "    </tr>\n",
       "  </thead>\n",
       "  <tbody>\n",
       "    <tr>\n",
       "      <th>0</th>\n",
       "      <td>AAA10Y</td>\n",
       "      <td>2000-01-03 00:00:00.0000000</td>\n",
       "      <td>1.17</td>\n",
       "      <td>Moodys Seasoned Aaa Corporate Bond Yield Relat...</td>\n",
       "      <td>Daily</td>\n",
       "      <td>Percent</td>\n",
       "      <td>Not Seasonally Adjusted</td>\n",
       "      <td>Series is calculated as the spread between Moo...</td>\n",
       "    </tr>\n",
       "    <tr>\n",
       "      <th>1</th>\n",
       "      <td>AAA10Y</td>\n",
       "      <td>2000-01-04 00:00:00.0000000</td>\n",
       "      <td>1.20</td>\n",
       "      <td>Moodys Seasoned Aaa Corporate Bond Yield Relat...</td>\n",
       "      <td>Daily</td>\n",
       "      <td>Percent</td>\n",
       "      <td>Not Seasonally Adjusted</td>\n",
       "      <td>Series is calculated as the spread between Moo...</td>\n",
       "    </tr>\n",
       "    <tr>\n",
       "      <th>2</th>\n",
       "      <td>AAA10Y</td>\n",
       "      <td>2000-01-05 00:00:00.0000000</td>\n",
       "      <td>1.16</td>\n",
       "      <td>Moodys Seasoned Aaa Corporate Bond Yield Relat...</td>\n",
       "      <td>Daily</td>\n",
       "      <td>Percent</td>\n",
       "      <td>Not Seasonally Adjusted</td>\n",
       "      <td>Series is calculated as the spread between Moo...</td>\n",
       "    </tr>\n",
       "    <tr>\n",
       "      <th>3</th>\n",
       "      <td>AAA10Y</td>\n",
       "      <td>2000-01-06 00:00:00.0000000</td>\n",
       "      <td>1.15</td>\n",
       "      <td>Moodys Seasoned Aaa Corporate Bond Yield Relat...</td>\n",
       "      <td>Daily</td>\n",
       "      <td>Percent</td>\n",
       "      <td>Not Seasonally Adjusted</td>\n",
       "      <td>Series is calculated as the spread between Moo...</td>\n",
       "    </tr>\n",
       "    <tr>\n",
       "      <th>4</th>\n",
       "      <td>AAA10Y</td>\n",
       "      <td>2000-01-07 00:00:00.0000000</td>\n",
       "      <td>1.17</td>\n",
       "      <td>Moodys Seasoned Aaa Corporate Bond Yield Relat...</td>\n",
       "      <td>Daily</td>\n",
       "      <td>Percent</td>\n",
       "      <td>Not Seasonally Adjusted</td>\n",
       "      <td>Series is calculated as the spread between Moo...</td>\n",
       "    </tr>\n",
       "  </tbody>\n",
       "</table>\n",
       "</div>"
      ],
      "text/plain": [
       "  series_id                         date  value  \\\n",
       "0    AAA10Y  2000-01-03 00:00:00.0000000   1.17   \n",
       "1    AAA10Y  2000-01-04 00:00:00.0000000   1.20   \n",
       "2    AAA10Y  2000-01-05 00:00:00.0000000   1.16   \n",
       "3    AAA10Y  2000-01-06 00:00:00.0000000   1.15   \n",
       "4    AAA10Y  2000-01-07 00:00:00.0000000   1.17   \n",
       "\n",
       "                                                name frequency    units  \\\n",
       "0  Moodys Seasoned Aaa Corporate Bond Yield Relat...     Daily  Percent   \n",
       "1  Moodys Seasoned Aaa Corporate Bond Yield Relat...     Daily  Percent   \n",
       "2  Moodys Seasoned Aaa Corporate Bond Yield Relat...     Daily  Percent   \n",
       "3  Moodys Seasoned Aaa Corporate Bond Yield Relat...     Daily  Percent   \n",
       "4  Moodys Seasoned Aaa Corporate Bond Yield Relat...     Daily  Percent   \n",
       "\n",
       "       seasonal_adjustment                                        Description  \n",
       "0  Not Seasonally Adjusted  Series is calculated as the spread between Moo...  \n",
       "1  Not Seasonally Adjusted  Series is calculated as the spread between Moo...  \n",
       "2  Not Seasonally Adjusted  Series is calculated as the spread between Moo...  \n",
       "3  Not Seasonally Adjusted  Series is calculated as the spread between Moo...  \n",
       "4  Not Seasonally Adjusted  Series is calculated as the spread between Moo...  "
      ]
     },
     "execution_count": 3,
     "metadata": {},
     "output_type": "execute_result"
    }
   ],
   "source": [
    "train = train_set.merge(ser, on = \"series_id\", how = 'left')\n",
    "train.head()"
   ]
  },
  {
   "cell_type": "markdown",
   "id": "33b9d692",
   "metadata": {},
   "source": [
    "## Data Cleaning"
   ]
  },
  {
   "cell_type": "code",
   "execution_count": 5,
   "id": "6f242398",
   "metadata": {
    "scrolled": true
   },
   "outputs": [
    {
     "data": {
      "text/plain": [
       "series_id               object\n",
       "date                    object\n",
       "value                  float64\n",
       "name                    object\n",
       "frequency               object\n",
       "units                   object\n",
       "seasonal_adjustment     object\n",
       "Description             object\n",
       "dtype: object"
      ]
     },
     "execution_count": 5,
     "metadata": {},
     "output_type": "execute_result"
    }
   ],
   "source": [
    "train.dtypes"
   ]
  },
  {
   "cell_type": "markdown",
   "id": "8fc1fb27",
   "metadata": {},
   "source": [
    "I want to transform the date into a datetime object so it is easier to work with time."
   ]
  },
  {
   "cell_type": "code",
   "execution_count": 7,
   "id": "c339e10a",
   "metadata": {},
   "outputs": [
    {
     "data": {
      "text/html": [
       "<div>\n",
       "<style scoped>\n",
       "    .dataframe tbody tr th:only-of-type {\n",
       "        vertical-align: middle;\n",
       "    }\n",
       "\n",
       "    .dataframe tbody tr th {\n",
       "        vertical-align: top;\n",
       "    }\n",
       "\n",
       "    .dataframe thead th {\n",
       "        text-align: right;\n",
       "    }\n",
       "</style>\n",
       "<table border=\"1\" class=\"dataframe\">\n",
       "  <thead>\n",
       "    <tr style=\"text-align: right;\">\n",
       "      <th></th>\n",
       "      <th>value</th>\n",
       "    </tr>\n",
       "  </thead>\n",
       "  <tbody>\n",
       "    <tr>\n",
       "      <th>count</th>\n",
       "      <td>100621.000000</td>\n",
       "    </tr>\n",
       "    <tr>\n",
       "      <th>mean</th>\n",
       "      <td>664.496100</td>\n",
       "    </tr>\n",
       "    <tr>\n",
       "      <th>std</th>\n",
       "      <td>4442.223695</td>\n",
       "    </tr>\n",
       "    <tr>\n",
       "      <th>min</th>\n",
       "      <td>-87.570000</td>\n",
       "    </tr>\n",
       "    <tr>\n",
       "      <th>25%</th>\n",
       "      <td>0.660000</td>\n",
       "    </tr>\n",
       "    <tr>\n",
       "      <th>50%</th>\n",
       "      <td>1.760000</td>\n",
       "    </tr>\n",
       "    <tr>\n",
       "      <th>75%</th>\n",
       "      <td>6.000000</td>\n",
       "    </tr>\n",
       "    <tr>\n",
       "      <th>max</th>\n",
       "      <td>85450.000000</td>\n",
       "    </tr>\n",
       "  </tbody>\n",
       "</table>\n",
       "</div>"
      ],
      "text/plain": [
       "               value\n",
       "count  100621.000000\n",
       "mean      664.496100\n",
       "std      4442.223695\n",
       "min       -87.570000\n",
       "25%         0.660000\n",
       "50%         1.760000\n",
       "75%         6.000000\n",
       "max     85450.000000"
      ]
     },
     "execution_count": 7,
     "metadata": {},
     "output_type": "execute_result"
    }
   ],
   "source": [
    "train.describe()"
   ]
  },
  {
   "cell_type": "markdown",
   "id": "d29911e3",
   "metadata": {},
   "source": [
    "It's weird to have negative values for the value as that would mean that the company is paying customer to buy it's stock. Therefore, I have decided to investigate further into this."
   ]
  },
  {
   "cell_type": "code",
   "execution_count": 13,
   "id": "731f41f3",
   "metadata": {},
   "outputs": [
    {
     "data": {
      "text/plain": [
       "array(['Percent Change from Year Ago', 'Percent',\n",
       "       'Percent Change at Annual Rate'], dtype=object)"
      ]
     },
     "execution_count": 13,
     "metadata": {},
     "output_type": "execute_result"
    }
   ],
   "source": [
    "train.loc[train[\"value\"] < 0.0, \"units\"].unique()"
   ]
  },
  {
   "cell_type": "markdown",
   "id": "d245806a",
   "metadata": {},
   "source": [
    "The negative values we observed was because the units is measured in change in percent. Knowing this, we must standarize our value so that we can perform analysis."
   ]
  },
  {
   "cell_type": "markdown",
   "id": "35dea1cb",
   "metadata": {},
   "source": [
    "### Check for Null values"
   ]
  },
  {
   "cell_type": "code",
   "execution_count": 9,
   "id": "818d397e",
   "metadata": {},
   "outputs": [
    {
     "data": {
      "text/plain": [
       "series_id              False\n",
       "date                   False\n",
       "value                   True\n",
       "name                   False\n",
       "frequency              False\n",
       "units                  False\n",
       "seasonal_adjustment    False\n",
       "Description             True\n",
       "dtype: bool"
      ]
     },
     "execution_count": 9,
     "metadata": {},
     "output_type": "execute_result"
    }
   ],
   "source": [
    "train.isnull().any()"
   ]
  },
  {
   "cell_type": "code",
   "execution_count": 17,
   "id": "aa16817a",
   "metadata": {},
   "outputs": [
    {
     "ename": "AttributeError",
     "evalue": "'list' object has no attribute 'unique'",
     "output_type": "error",
     "traceback": [
      "\u001b[0;31m---------------------------------------------------------------------------\u001b[0m",
      "\u001b[0;31mAttributeError\u001b[0m                            Traceback (most recent call last)",
      "\u001b[0;32m<ipython-input-17-6f3854c75ae9>\u001b[0m in \u001b[0;36m<module>\u001b[0;34m\u001b[0m\n\u001b[0;32m----> 1\u001b[0;31m \u001b[0;34m[\u001b[0m\u001b[0;34m\"frequency\"\u001b[0m\u001b[0;34m]\u001b[0m\u001b[0;34m.\u001b[0m\u001b[0munique\u001b[0m\u001b[0;34m(\u001b[0m\u001b[0;34m)\u001b[0m\u001b[0;34m\u001b[0m\u001b[0;34m\u001b[0m\u001b[0m\n\u001b[0m",
      "\u001b[0;31mAttributeError\u001b[0m: 'list' object has no attribute 'unique'"
     ]
    }
   ],
   "source": [
    "[\"frequency\"].unique()"
   ]
  },
  {
   "cell_type": "code",
   "execution_count": 18,
   "id": "bcdcb826",
   "metadata": {},
   "outputs": [
    {
     "data": {
      "text/html": [
       "<div>\n",
       "<style scoped>\n",
       "    .dataframe tbody tr th:only-of-type {\n",
       "        vertical-align: middle;\n",
       "    }\n",
       "\n",
       "    .dataframe tbody tr th {\n",
       "        vertical-align: top;\n",
       "    }\n",
       "\n",
       "    .dataframe thead th {\n",
       "        text-align: right;\n",
       "    }\n",
       "</style>\n",
       "<table border=\"1\" class=\"dataframe\">\n",
       "  <thead>\n",
       "    <tr style=\"text-align: right;\">\n",
       "      <th></th>\n",
       "      <th>series_id</th>\n",
       "      <th>date</th>\n",
       "      <th>value</th>\n",
       "      <th>name</th>\n",
       "      <th>frequency</th>\n",
       "      <th>units</th>\n",
       "      <th>seasonal_adjustment</th>\n",
       "      <th>Description</th>\n",
       "    </tr>\n",
       "  </thead>\n",
       "  <tbody>\n",
       "    <tr>\n",
       "      <th>10</th>\n",
       "      <td>AAA10Y</td>\n",
       "      <td>2000-01-17 00:00:00.0000000</td>\n",
       "      <td>NaN</td>\n",
       "      <td>Moodys Seasoned Aaa Corporate Bond Yield Relat...</td>\n",
       "      <td>Daily</td>\n",
       "      <td>Percent</td>\n",
       "      <td>Not Seasonally Adjusted</td>\n",
       "      <td>Series is calculated as the spread between Moo...</td>\n",
       "    </tr>\n",
       "    <tr>\n",
       "      <th>35</th>\n",
       "      <td>AAA10Y</td>\n",
       "      <td>2000-02-21 00:00:00.0000000</td>\n",
       "      <td>NaN</td>\n",
       "      <td>Moodys Seasoned Aaa Corporate Bond Yield Relat...</td>\n",
       "      <td>Daily</td>\n",
       "      <td>Percent</td>\n",
       "      <td>Not Seasonally Adjusted</td>\n",
       "      <td>Series is calculated as the spread between Moo...</td>\n",
       "    </tr>\n",
       "    <tr>\n",
       "      <th>79</th>\n",
       "      <td>AAA10Y</td>\n",
       "      <td>2000-04-21 00:00:00.0000000</td>\n",
       "      <td>NaN</td>\n",
       "      <td>Moodys Seasoned Aaa Corporate Bond Yield Relat...</td>\n",
       "      <td>Daily</td>\n",
       "      <td>Percent</td>\n",
       "      <td>Not Seasonally Adjusted</td>\n",
       "      <td>Series is calculated as the spread between Moo...</td>\n",
       "    </tr>\n",
       "    <tr>\n",
       "      <th>105</th>\n",
       "      <td>AAA10Y</td>\n",
       "      <td>2000-05-29 00:00:00.0000000</td>\n",
       "      <td>NaN</td>\n",
       "      <td>Moodys Seasoned Aaa Corporate Bond Yield Relat...</td>\n",
       "      <td>Daily</td>\n",
       "      <td>Percent</td>\n",
       "      <td>Not Seasonally Adjusted</td>\n",
       "      <td>Series is calculated as the spread between Moo...</td>\n",
       "    </tr>\n",
       "    <tr>\n",
       "      <th>131</th>\n",
       "      <td>AAA10Y</td>\n",
       "      <td>2000-07-04 00:00:00.0000000</td>\n",
       "      <td>NaN</td>\n",
       "      <td>Moodys Seasoned Aaa Corporate Bond Yield Relat...</td>\n",
       "      <td>Daily</td>\n",
       "      <td>Percent</td>\n",
       "      <td>Not Seasonally Adjusted</td>\n",
       "      <td>Series is calculated as the spread between Moo...</td>\n",
       "    </tr>\n",
       "    <tr>\n",
       "      <th>...</th>\n",
       "      <td>...</td>\n",
       "      <td>...</td>\n",
       "      <td>...</td>\n",
       "      <td>...</td>\n",
       "      <td>...</td>\n",
       "      <td>...</td>\n",
       "      <td>...</td>\n",
       "      <td>...</td>\n",
       "    </tr>\n",
       "    <tr>\n",
       "      <th>94337</th>\n",
       "      <td>TEDRATE</td>\n",
       "      <td>2017-09-04 00:00:00.0000000</td>\n",
       "      <td>NaN</td>\n",
       "      <td>TED Spread</td>\n",
       "      <td>Daily</td>\n",
       "      <td>Percent</td>\n",
       "      <td>Not Seasonally Adjusted</td>\n",
       "      <td>Series is calculated as the spread between 3-M...</td>\n",
       "    </tr>\n",
       "    <tr>\n",
       "      <th>94362</th>\n",
       "      <td>TEDRATE</td>\n",
       "      <td>2017-10-09 00:00:00.0000000</td>\n",
       "      <td>NaN</td>\n",
       "      <td>TED Spread</td>\n",
       "      <td>Daily</td>\n",
       "      <td>Percent</td>\n",
       "      <td>Not Seasonally Adjusted</td>\n",
       "      <td>Series is calculated as the spread between 3-M...</td>\n",
       "    </tr>\n",
       "    <tr>\n",
       "      <th>94395</th>\n",
       "      <td>TEDRATE</td>\n",
       "      <td>2017-11-23 00:00:00.0000000</td>\n",
       "      <td>NaN</td>\n",
       "      <td>TED Spread</td>\n",
       "      <td>Daily</td>\n",
       "      <td>Percent</td>\n",
       "      <td>Not Seasonally Adjusted</td>\n",
       "      <td>Series is calculated as the spread between 3-M...</td>\n",
       "    </tr>\n",
       "    <tr>\n",
       "      <th>94417</th>\n",
       "      <td>TEDRATE</td>\n",
       "      <td>2017-12-25 00:00:00.0000000</td>\n",
       "      <td>NaN</td>\n",
       "      <td>TED Spread</td>\n",
       "      <td>Daily</td>\n",
       "      <td>Percent</td>\n",
       "      <td>Not Seasonally Adjusted</td>\n",
       "      <td>Series is calculated as the spread between 3-M...</td>\n",
       "    </tr>\n",
       "    <tr>\n",
       "      <th>94418</th>\n",
       "      <td>TEDRATE</td>\n",
       "      <td>2017-12-26 00:00:00.0000000</td>\n",
       "      <td>NaN</td>\n",
       "      <td>TED Spread</td>\n",
       "      <td>Daily</td>\n",
       "      <td>Percent</td>\n",
       "      <td>Not Seasonally Adjusted</td>\n",
       "      <td>Series is calculated as the spread between 3-M...</td>\n",
       "    </tr>\n",
       "  </tbody>\n",
       "</table>\n",
       "<p>2683 rows × 8 columns</p>\n",
       "</div>"
      ],
      "text/plain": [
       "      series_id                         date  value  \\\n",
       "10       AAA10Y  2000-01-17 00:00:00.0000000    NaN   \n",
       "35       AAA10Y  2000-02-21 00:00:00.0000000    NaN   \n",
       "79       AAA10Y  2000-04-21 00:00:00.0000000    NaN   \n",
       "105      AAA10Y  2000-05-29 00:00:00.0000000    NaN   \n",
       "131      AAA10Y  2000-07-04 00:00:00.0000000    NaN   \n",
       "...         ...                          ...    ...   \n",
       "94337   TEDRATE  2017-09-04 00:00:00.0000000    NaN   \n",
       "94362   TEDRATE  2017-10-09 00:00:00.0000000    NaN   \n",
       "94395   TEDRATE  2017-11-23 00:00:00.0000000    NaN   \n",
       "94417   TEDRATE  2017-12-25 00:00:00.0000000    NaN   \n",
       "94418   TEDRATE  2017-12-26 00:00:00.0000000    NaN   \n",
       "\n",
       "                                                    name frequency    units  \\\n",
       "10     Moodys Seasoned Aaa Corporate Bond Yield Relat...     Daily  Percent   \n",
       "35     Moodys Seasoned Aaa Corporate Bond Yield Relat...     Daily  Percent   \n",
       "79     Moodys Seasoned Aaa Corporate Bond Yield Relat...     Daily  Percent   \n",
       "105    Moodys Seasoned Aaa Corporate Bond Yield Relat...     Daily  Percent   \n",
       "131    Moodys Seasoned Aaa Corporate Bond Yield Relat...     Daily  Percent   \n",
       "...                                                  ...       ...      ...   \n",
       "94337                                         TED Spread     Daily  Percent   \n",
       "94362                                         TED Spread     Daily  Percent   \n",
       "94395                                         TED Spread     Daily  Percent   \n",
       "94417                                         TED Spread     Daily  Percent   \n",
       "94418                                         TED Spread     Daily  Percent   \n",
       "\n",
       "           seasonal_adjustment  \\\n",
       "10     Not Seasonally Adjusted   \n",
       "35     Not Seasonally Adjusted   \n",
       "79     Not Seasonally Adjusted   \n",
       "105    Not Seasonally Adjusted   \n",
       "131    Not Seasonally Adjusted   \n",
       "...                        ...   \n",
       "94337  Not Seasonally Adjusted   \n",
       "94362  Not Seasonally Adjusted   \n",
       "94395  Not Seasonally Adjusted   \n",
       "94417  Not Seasonally Adjusted   \n",
       "94418  Not Seasonally Adjusted   \n",
       "\n",
       "                                             Description  \n",
       "10     Series is calculated as the spread between Moo...  \n",
       "35     Series is calculated as the spread between Moo...  \n",
       "79     Series is calculated as the spread between Moo...  \n",
       "105    Series is calculated as the spread between Moo...  \n",
       "131    Series is calculated as the spread between Moo...  \n",
       "...                                                  ...  \n",
       "94337  Series is calculated as the spread between 3-M...  \n",
       "94362  Series is calculated as the spread between 3-M...  \n",
       "94395  Series is calculated as the spread between 3-M...  \n",
       "94417  Series is calculated as the spread between 3-M...  \n",
       "94418  Series is calculated as the spread between 3-M...  \n",
       "\n",
       "[2683 rows x 8 columns]"
      ]
     },
     "execution_count": 18,
     "metadata": {},
     "output_type": "execute_result"
    }
   ],
   "source": [
    "train.loc[train[\"value\"].isnull()]"
   ]
  },
  {
   "cell_type": "markdown",
   "id": "df90d774",
   "metadata": {},
   "source": [
    "For stocks measured daily, we can conclude that the price is missing due to an observed holiday leading to a close of the stock market. For these days, we can impute the value based on the previous close price."
   ]
  },
  {
   "cell_type": "code",
   "execution_count": null,
   "id": "3d322b3e",
   "metadata": {},
   "outputs": [],
   "source": []
  }
 ],
 "metadata": {
  "kernelspec": {
   "display_name": "Python 3",
   "language": "python",
   "name": "python3"
  },
  "language_info": {
   "codemirror_mode": {
    "name": "ipython",
    "version": 3
   },
   "file_extension": ".py",
   "mimetype": "text/x-python",
   "name": "python",
   "nbconvert_exporter": "python",
   "pygments_lexer": "ipython3",
   "version": "3.8.8"
  }
 },
 "nbformat": 4,
 "nbformat_minor": 5
}
